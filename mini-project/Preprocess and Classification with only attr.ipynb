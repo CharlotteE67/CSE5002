{
 "cells": [
  {
   "cell_type": "markdown",
   "id": "085c1b2f",
   "metadata": {},
   "source": [
    "# Preprocess"
   ]
  },
  {
   "cell_type": "code",
   "execution_count": 42,
   "id": "de09fee2",
   "metadata": {},
   "outputs": [],
   "source": [
    "import numpy as np\n",
    "import pandas as pd\n",
    "from pandas.core.frame import DataFrame"
   ]
  },
  {
   "cell_type": "code",
   "execution_count": 43,
   "id": "3430aba9",
   "metadata": {},
   "outputs": [
    {
     "data": {
      "text/html": [
       "<div>\n",
       "<style scoped>\n",
       "    .dataframe tbody tr th:only-of-type {\n",
       "        vertical-align: middle;\n",
       "    }\n",
       "\n",
       "    .dataframe tbody tr th {\n",
       "        vertical-align: top;\n",
       "    }\n",
       "\n",
       "    .dataframe thead th {\n",
       "        text-align: right;\n",
       "    }\n",
       "</style>\n",
       "<table border=\"1\" class=\"dataframe\">\n",
       "  <thead>\n",
       "    <tr style=\"text-align: right;\">\n",
       "      <th></th>\n",
       "      <th>paper_id</th>\n",
       "      <th>label</th>\n",
       "    </tr>\n",
       "  </thead>\n",
       "  <tbody>\n",
       "    <tr>\n",
       "      <th>0</th>\n",
       "      <td>0</td>\n",
       "      <td>Neural_Networks</td>\n",
       "    </tr>\n",
       "    <tr>\n",
       "      <th>1</th>\n",
       "      <td>1</td>\n",
       "      <td>Rule_Learning</td>\n",
       "    </tr>\n",
       "    <tr>\n",
       "      <th>2</th>\n",
       "      <td>2</td>\n",
       "      <td>Reinforcement_Learning</td>\n",
       "    </tr>\n",
       "    <tr>\n",
       "      <th>3</th>\n",
       "      <td>3</td>\n",
       "      <td>Reinforcement_Learning</td>\n",
       "    </tr>\n",
       "    <tr>\n",
       "      <th>4</th>\n",
       "      <td>4</td>\n",
       "      <td>Probabilistic_Methods</td>\n",
       "    </tr>\n",
       "  </tbody>\n",
       "</table>\n",
       "</div>"
      ],
      "text/plain": [
       "   paper_id                   label\n",
       "0         0         Neural_Networks\n",
       "1         1           Rule_Learning\n",
       "2         2  Reinforcement_Learning\n",
       "3         3  Reinforcement_Learning\n",
       "4         4   Probabilistic_Methods"
      ]
     },
     "execution_count": 43,
     "metadata": {},
     "output_type": "execute_result"
    }
   ],
   "source": [
    "labels = pd.read_csv('./label.csv', header=None, names=['paper_id', 'label'])\n",
    "labels.head()"
   ]
  },
  {
   "cell_type": "code",
   "execution_count": 44,
   "id": "000789ec",
   "metadata": {},
   "outputs": [
    {
     "data": {
      "text/html": [
       "<div>\n",
       "<style scoped>\n",
       "    .dataframe tbody tr th:only-of-type {\n",
       "        vertical-align: middle;\n",
       "    }\n",
       "\n",
       "    .dataframe tbody tr th {\n",
       "        vertical-align: top;\n",
       "    }\n",
       "\n",
       "    .dataframe thead th {\n",
       "        text-align: right;\n",
       "    }\n",
       "</style>\n",
       "<table border=\"1\" class=\"dataframe\">\n",
       "  <thead>\n",
       "    <tr style=\"text-align: right;\">\n",
       "      <th></th>\n",
       "      <th>paper_id</th>\n",
       "      <th>word_ids</th>\n",
       "    </tr>\n",
       "  </thead>\n",
       "  <tbody>\n",
       "    <tr>\n",
       "      <th>0</th>\n",
       "      <td>0</td>\n",
       "      <td>[118, 125, 176, 252, 351, 456, 507, 521, 619, ...</td>\n",
       "    </tr>\n",
       "    <tr>\n",
       "      <th>1</th>\n",
       "      <td>1</td>\n",
       "      <td>[12, 509, 620, 763, 882, 893, 978, 1131, 1135,...</td>\n",
       "    </tr>\n",
       "    <tr>\n",
       "      <th>2</th>\n",
       "      <td>2</td>\n",
       "      <td>[45, 209, 212, 239, 292, 394, 510, 514, 581, 6...</td>\n",
       "    </tr>\n",
       "    <tr>\n",
       "      <th>3</th>\n",
       "      <td>3</td>\n",
       "      <td>[41, 93, 99, 149, 594, 617, 624, 648, 874, 915...</td>\n",
       "    </tr>\n",
       "    <tr>\n",
       "      <th>4</th>\n",
       "      <td>4</td>\n",
       "      <td>[44, 122, 135, 153, 364, 396, 402, 474, 507, 6...</td>\n",
       "    </tr>\n",
       "    <tr>\n",
       "      <th>...</th>\n",
       "      <td>...</td>\n",
       "      <td>...</td>\n",
       "    </tr>\n",
       "    <tr>\n",
       "      <th>2703</th>\n",
       "      <td>2703</td>\n",
       "      <td>[118, 263, 299, 310, 379, 534, 597, 675, 812, ...</td>\n",
       "    </tr>\n",
       "    <tr>\n",
       "      <th>2704</th>\n",
       "      <td>2704</td>\n",
       "      <td>[346, 403, 459, 469, 495, 701, 723, 763, 766, ...</td>\n",
       "    </tr>\n",
       "    <tr>\n",
       "      <th>2705</th>\n",
       "      <td>2705</td>\n",
       "      <td>[130, 192, 205, 277, 310, 332, 495, 539, 560, ...</td>\n",
       "    </tr>\n",
       "    <tr>\n",
       "      <th>2706</th>\n",
       "      <td>2706</td>\n",
       "      <td>[4, 48, 54, 132, 287, 475, 609, 933, 1131, 113...</td>\n",
       "    </tr>\n",
       "    <tr>\n",
       "      <th>2707</th>\n",
       "      <td>2707</td>\n",
       "      <td>[19, 67, 136, 304, 422, 564, 737, 774, 877, 10...</td>\n",
       "    </tr>\n",
       "  </tbody>\n",
       "</table>\n",
       "<p>2708 rows × 2 columns</p>\n",
       "</div>"
      ],
      "text/plain": [
       "     paper_id                                           word_ids\n",
       "0           0  [118, 125, 176, 252, 351, 456, 507, 521, 619, ...\n",
       "1           1  [12, 509, 620, 763, 882, 893, 978, 1131, 1135,...\n",
       "2           2  [45, 209, 212, 239, 292, 394, 510, 514, 581, 6...\n",
       "3           3  [41, 93, 99, 149, 594, 617, 624, 648, 874, 915...\n",
       "4           4  [44, 122, 135, 153, 364, 396, 402, 474, 507, 6...\n",
       "...       ...                                                ...\n",
       "2703     2703  [118, 263, 299, 310, 379, 534, 597, 675, 812, ...\n",
       "2704     2704  [346, 403, 459, 469, 495, 701, 723, 763, 766, ...\n",
       "2705     2705  [130, 192, 205, 277, 310, 332, 495, 539, 560, ...\n",
       "2706     2706  [4, 48, 54, 132, 287, 475, 609, 933, 1131, 113...\n",
       "2707     2707  [19, 67, 136, 304, 422, 564, 737, 774, 877, 10...\n",
       "\n",
       "[2708 rows x 2 columns]"
      ]
     },
     "execution_count": 44,
     "metadata": {},
     "output_type": "execute_result"
    }
   ],
   "source": [
    "# read attr.csv and adj_list.csv by hand\n",
    "f = open('./attr.csv', 'r')\n",
    "attr = f.read().splitlines()\n",
    "attr_trans = []\n",
    "for i in range(len(attr)):\n",
    "    items = attr[i].split(',')\n",
    "    paper_id = items[0]\n",
    "    words = []\n",
    "    for i in range(1, len(items)):\n",
    "        words.append(items[i])\n",
    "    attr_trans.append([paper_id, words])\n",
    "attr_data = DataFrame(attr_trans, columns=['paper_id', 'word_ids'])\n",
    "attr_data"
   ]
  },
  {
   "cell_type": "code",
   "execution_count": 45,
   "id": "e08f14d1",
   "metadata": {},
   "outputs": [
    {
     "data": {
      "text/html": [
       "<div>\n",
       "<style scoped>\n",
       "    .dataframe tbody tr th:only-of-type {\n",
       "        vertical-align: middle;\n",
       "    }\n",
       "\n",
       "    .dataframe tbody tr th {\n",
       "        vertical-align: top;\n",
       "    }\n",
       "\n",
       "    .dataframe thead th {\n",
       "        text-align: right;\n",
       "    }\n",
       "</style>\n",
       "<table border=\"1\" class=\"dataframe\">\n",
       "  <thead>\n",
       "    <tr style=\"text-align: right;\">\n",
       "      <th></th>\n",
       "      <th>paper_id</th>\n",
       "      <th>neigbor_ids</th>\n",
       "    </tr>\n",
       "  </thead>\n",
       "  <tbody>\n",
       "    <tr>\n",
       "      <th>0</th>\n",
       "      <td>0</td>\n",
       "      <td>[8, 14, 258, 435, 544]</td>\n",
       "    </tr>\n",
       "    <tr>\n",
       "      <th>1</th>\n",
       "      <td>1</td>\n",
       "      <td>[344]</td>\n",
       "    </tr>\n",
       "    <tr>\n",
       "      <th>2</th>\n",
       "      <td>2</td>\n",
       "      <td>[410, 471, 552, 565]</td>\n",
       "    </tr>\n",
       "    <tr>\n",
       "      <th>3</th>\n",
       "      <td>3</td>\n",
       "      <td>[197, 463, 601]</td>\n",
       "    </tr>\n",
       "    <tr>\n",
       "      <th>4</th>\n",
       "      <td>4</td>\n",
       "      <td>[170]</td>\n",
       "    </tr>\n",
       "    <tr>\n",
       "      <th>...</th>\n",
       "      <td>...</td>\n",
       "      <td>...</td>\n",
       "    </tr>\n",
       "    <tr>\n",
       "      <th>2703</th>\n",
       "      <td>2703</td>\n",
       "      <td>[1221, 1409, 2200]</td>\n",
       "    </tr>\n",
       "    <tr>\n",
       "      <th>2704</th>\n",
       "      <td>2704</td>\n",
       "      <td>[209, 2407]</td>\n",
       "    </tr>\n",
       "    <tr>\n",
       "      <th>2705</th>\n",
       "      <td>2705</td>\n",
       "      <td>[1784, 1839, 1840, 2216]</td>\n",
       "    </tr>\n",
       "    <tr>\n",
       "      <th>2706</th>\n",
       "      <td>2706</td>\n",
       "      <td>[1046, 1138, 1640, 1752]</td>\n",
       "    </tr>\n",
       "    <tr>\n",
       "      <th>2707</th>\n",
       "      <td>2707</td>\n",
       "      <td>[774, 1389, 2344]</td>\n",
       "    </tr>\n",
       "  </tbody>\n",
       "</table>\n",
       "<p>2708 rows × 2 columns</p>\n",
       "</div>"
      ],
      "text/plain": [
       "     paper_id               neigbor_ids\n",
       "0           0    [8, 14, 258, 435, 544]\n",
       "1           1                     [344]\n",
       "2           2      [410, 471, 552, 565]\n",
       "3           3           [197, 463, 601]\n",
       "4           4                     [170]\n",
       "...       ...                       ...\n",
       "2703     2703        [1221, 1409, 2200]\n",
       "2704     2704               [209, 2407]\n",
       "2705     2705  [1784, 1839, 1840, 2216]\n",
       "2706     2706  [1046, 1138, 1640, 1752]\n",
       "2707     2707         [774, 1389, 2344]\n",
       "\n",
       "[2708 rows x 2 columns]"
      ]
     },
     "execution_count": 45,
     "metadata": {},
     "output_type": "execute_result"
    }
   ],
   "source": [
    "f = open('./adj_list.csv', 'r')\n",
    "adj = f.read().splitlines()\n",
    "adj_trans = []\n",
    "for i in range(len(adj)):\n",
    "    items = adj[i].split(',')\n",
    "    paper_id = items[0]\n",
    "    neighbors = []\n",
    "    for i in range(1, len(items)):\n",
    "        neighbors.append(items[i])\n",
    "    adj_trans.append([paper_id, neighbors])\n",
    "DataFrame(adj_trans, columns=['paper_id', 'neigbor_ids'])"
   ]
  },
  {
   "cell_type": "code",
   "execution_count": 46,
   "id": "9fcaeb91",
   "metadata": {},
   "outputs": [],
   "source": [
    "labels.dropna(inplace=True)\n",
    "attr_data.dropna(inplace=True)"
   ]
  },
  {
   "cell_type": "code",
   "execution_count": 47,
   "id": "44ca548c",
   "metadata": {},
   "outputs": [
    {
     "data": {
      "image/png": "[encoded data removed]",
      "text/plain": [
       "<Figure size 1080x720 with 1 Axes>"
      ]
     },
     "metadata": {
      "needs_background": "light"
     },
     "output_type": "display_data"
    },
    {
     "name": "stdout",
     "output_type": "stream",
     "text": [
      "total_lael has:  7  labels\n"
     ]
    }
   ],
   "source": [
    "# label distribution\n",
    "import matplotlib.pyplot as plt\n",
    "import seaborn as sns\n",
    "\n",
    "fig, ax = plt.subplots(figsize=(15, 10))\n",
    "sns.countplot(x=\"label\", data=labels, palette=\"bone\")\n",
    "plt.show()\n",
    "# print(\"train_lael has: \",len(train_label['label'].unique()),\" labels\")\n",
    "# print(\"test_lael has: \",len(test_label['label'].unique()),\" labels\")\n",
    "# total_label = pd.concat([train_label,test_label], axis=0)\n",
    "print(\"total_lael has: \",len(labels['label'].unique()),\" labels\")"
   ]
  },
  {
   "cell_type": "code",
   "execution_count": 48,
   "id": "62e79f82",
   "metadata": {},
   "outputs": [
    {
     "name": "stdout",
     "output_type": "stream",
     "text": [
      "False\n"
     ]
    }
   ],
   "source": [
    "# Construct word vector for attr data\n",
    "word_ids = set()\n",
    "for i in range(len(attr_data)):\n",
    "    for index in attr_data['word_ids'][i]:\n",
    "        word_ids.add(int(index))\n",
    "    if len(np.unique(attr_data['word_ids'][i])) != len(attr_data['word_ids'][i]):\n",
    "        print('duplicate words in paper ', i)\n",
    "word_ids = list(word_ids)\n",
    "print(word_ids.sort() == [ i for i in range(0, len(word_ids))])"
   ]
  },
  {
   "cell_type": "code",
   "execution_count": 49,
   "id": "55c126da",
   "metadata": {},
   "outputs": [
    {
     "data": {
      "text/plain": [
       "445"
      ]
     },
     "execution_count": 49,
     "metadata": {},
     "output_type": "execute_result"
    }
   ],
   "source": [
    "word_ids[444]"
   ]
  },
  {
   "cell_type": "code",
   "execution_count": 50,
   "id": "9b238147",
   "metadata": {},
   "outputs": [
    {
     "data": {
      "text/plain": [
       "1432"
      ]
     },
     "execution_count": 50,
     "metadata": {},
     "output_type": "execute_result"
    }
   ],
   "source": [
    "len(word_ids)"
   ]
  },
  {
   "cell_type": "code",
   "execution_count": 51,
   "id": "2bd958fa",
   "metadata": {},
   "outputs": [
    {
     "data": {
      "text/plain": [
       "2708"
      ]
     },
     "execution_count": 51,
     "metadata": {},
     "output_type": "execute_result"
    }
   ],
   "source": [
    "# word id 444 is missing for all paper\n",
    "vector_len = 1433\n",
    "paper_word2vector = []\n",
    "for i in range(len(attr_data)):\n",
    "    vector = [ 0 for _ in range(vector_len)]\n",
    "    for index in attr_data['word_ids'][i]:\n",
    "        vector[int(index)] = 1\n",
    "    paper_word2vector.append([i, vector])\n",
    "len(paper_word2vector)"
   ]
  },
  {
   "cell_type": "code",
   "execution_count": 52,
   "id": "0d7ea23c",
   "metadata": {},
   "outputs": [
    {
     "data": {
      "text/html": [
       "<div>\n",
       "<style scoped>\n",
       "    .dataframe tbody tr th:only-of-type {\n",
       "        vertical-align: middle;\n",
       "    }\n",
       "\n",
       "    .dataframe tbody tr th {\n",
       "        vertical-align: top;\n",
       "    }\n",
       "\n",
       "    .dataframe thead th {\n",
       "        text-align: right;\n",
       "    }\n",
       "</style>\n",
       "<table border=\"1\" class=\"dataframe\">\n",
       "  <thead>\n",
       "    <tr style=\"text-align: right;\">\n",
       "      <th></th>\n",
       "      <th>paper_id</th>\n",
       "      <th>word_vector</th>\n",
       "    </tr>\n",
       "  </thead>\n",
       "  <tbody>\n",
       "    <tr>\n",
       "      <th>0</th>\n",
       "      <td>0</td>\n",
       "      <td>[0, 0, 0, 0, 0, 0, 0, 0, 0, 0, 0, 0, 0, 0, 0, ...</td>\n",
       "    </tr>\n",
       "    <tr>\n",
       "      <th>1</th>\n",
       "      <td>1</td>\n",
       "      <td>[0, 0, 0, 0, 0, 0, 0, 0, 0, 0, 0, 0, 1, 0, 0, ...</td>\n",
       "    </tr>\n",
       "    <tr>\n",
       "      <th>2</th>\n",
       "      <td>2</td>\n",
       "      <td>[0, 0, 0, 0, 0, 0, 0, 0, 0, 0, 0, 0, 0, 0, 0, ...</td>\n",
       "    </tr>\n",
       "    <tr>\n",
       "      <th>3</th>\n",
       "      <td>3</td>\n",
       "      <td>[0, 0, 0, 0, 0, 0, 0, 0, 0, 0, 0, 0, 0, 0, 0, ...</td>\n",
       "    </tr>\n",
       "    <tr>\n",
       "      <th>4</th>\n",
       "      <td>4</td>\n",
       "      <td>[0, 0, 0, 0, 0, 0, 0, 0, 0, 0, 0, 0, 0, 0, 0, ...</td>\n",
       "    </tr>\n",
       "    <tr>\n",
       "      <th>...</th>\n",
       "      <td>...</td>\n",
       "      <td>...</td>\n",
       "    </tr>\n",
       "    <tr>\n",
       "      <th>2703</th>\n",
       "      <td>2703</td>\n",
       "      <td>[0, 0, 0, 0, 0, 0, 0, 0, 0, 0, 0, 0, 0, 0, 0, ...</td>\n",
       "    </tr>\n",
       "    <tr>\n",
       "      <th>2704</th>\n",
       "      <td>2704</td>\n",
       "      <td>[0, 0, 0, 0, 0, 0, 0, 0, 0, 0, 0, 0, 0, 0, 0, ...</td>\n",
       "    </tr>\n",
       "    <tr>\n",
       "      <th>2705</th>\n",
       "      <td>2705</td>\n",
       "      <td>[0, 0, 0, 0, 0, 0, 0, 0, 0, 0, 0, 0, 0, 0, 0, ...</td>\n",
       "    </tr>\n",
       "    <tr>\n",
       "      <th>2706</th>\n",
       "      <td>2706</td>\n",
       "      <td>[0, 0, 0, 0, 1, 0, 0, 0, 0, 0, 0, 0, 0, 0, 0, ...</td>\n",
       "    </tr>\n",
       "    <tr>\n",
       "      <th>2707</th>\n",
       "      <td>2707</td>\n",
       "      <td>[0, 0, 0, 0, 0, 0, 0, 0, 0, 0, 0, 0, 0, 0, 0, ...</td>\n",
       "    </tr>\n",
       "  </tbody>\n",
       "</table>\n",
       "<p>2708 rows × 2 columns</p>\n",
       "</div>"
      ],
      "text/plain": [
       "      paper_id                                        word_vector\n",
       "0            0  [0, 0, 0, 0, 0, 0, 0, 0, 0, 0, 0, 0, 0, 0, 0, ...\n",
       "1            1  [0, 0, 0, 0, 0, 0, 0, 0, 0, 0, 0, 0, 1, 0, 0, ...\n",
       "2            2  [0, 0, 0, 0, 0, 0, 0, 0, 0, 0, 0, 0, 0, 0, 0, ...\n",
       "3            3  [0, 0, 0, 0, 0, 0, 0, 0, 0, 0, 0, 0, 0, 0, 0, ...\n",
       "4            4  [0, 0, 0, 0, 0, 0, 0, 0, 0, 0, 0, 0, 0, 0, 0, ...\n",
       "...        ...                                                ...\n",
       "2703      2703  [0, 0, 0, 0, 0, 0, 0, 0, 0, 0, 0, 0, 0, 0, 0, ...\n",
       "2704      2704  [0, 0, 0, 0, 0, 0, 0, 0, 0, 0, 0, 0, 0, 0, 0, ...\n",
       "2705      2705  [0, 0, 0, 0, 0, 0, 0, 0, 0, 0, 0, 0, 0, 0, 0, ...\n",
       "2706      2706  [0, 0, 0, 0, 1, 0, 0, 0, 0, 0, 0, 0, 0, 0, 0, ...\n",
       "2707      2707  [0, 0, 0, 0, 0, 0, 0, 0, 0, 0, 0, 0, 0, 0, 0, ...\n",
       "\n",
       "[2708 rows x 2 columns]"
      ]
     },
     "execution_count": 52,
     "metadata": {},
     "output_type": "execute_result"
    }
   ],
   "source": [
    "# construct word vectors\n",
    "word_vector = DataFrame(paper_word2vector, columns=['paper_id', 'word_vector'])\n",
    "word_vector"
   ]
  },
  {
   "cell_type": "code",
   "execution_count": 53,
   "id": "737f5882",
   "metadata": {},
   "outputs": [],
   "source": [
    "# merge word vectors with labels\n",
    "data = pd.merge(word_vector, labels)\n",
    "data.drop(axis=1, columns='paper_id', inplace=True)\n",
    "unique_labels = data['label'].unique().tolist()\n",
    "one_hot_labels = []\n",
    "for i in range(len(data)):\n",
    "    one_hot_label = [ 0 for _ in range(len(unique_labels))]\n",
    "    one_hot_label[unique_labels.index(data['label'][i])] = 1\n",
    "    one_hot_labels.append([i, one_hot_label])\n",
    "one_hot_col = DataFrame(one_hot_labels, columns=['id', 'one_hot_label'])\n",
    "data = pd.concat([data, one_hot_col], axis=1)\n",
    "data.drop(axis=1, columns=['label', 'id'], inplace=True)"
   ]
  },
  {
   "cell_type": "code",
   "execution_count": 54,
   "id": "f8aa0230",
   "metadata": {},
   "outputs": [
    {
     "data": {
      "text/html": [
       "<div>\n",
       "<style scoped>\n",
       "    .dataframe tbody tr th:only-of-type {\n",
       "        vertical-align: middle;\n",
       "    }\n",
       "\n",
       "    .dataframe tbody tr th {\n",
       "        vertical-align: top;\n",
       "    }\n",
       "\n",
       "    .dataframe thead th {\n",
       "        text-align: right;\n",
       "    }\n",
       "</style>\n",
       "<table border=\"1\" class=\"dataframe\">\n",
       "  <thead>\n",
       "    <tr style=\"text-align: right;\">\n",
       "      <th></th>\n",
       "      <th>word_vector</th>\n",
       "      <th>one_hot_label</th>\n",
       "    </tr>\n",
       "  </thead>\n",
       "  <tbody>\n",
       "    <tr>\n",
       "      <th>0</th>\n",
       "      <td>[0, 0, 0, 0, 0, 0, 0, 0, 0, 0, 0, 0, 0, 0, 0, ...</td>\n",
       "      <td>[1, 0, 0, 0, 0, 0, 0]</td>\n",
       "    </tr>\n",
       "    <tr>\n",
       "      <th>1</th>\n",
       "      <td>[0, 0, 0, 0, 0, 0, 0, 0, 0, 0, 0, 0, 1, 0, 0, ...</td>\n",
       "      <td>[0, 1, 0, 0, 0, 0, 0]</td>\n",
       "    </tr>\n",
       "    <tr>\n",
       "      <th>2</th>\n",
       "      <td>[0, 0, 0, 0, 0, 0, 0, 0, 0, 0, 0, 0, 0, 0, 0, ...</td>\n",
       "      <td>[0, 0, 1, 0, 0, 0, 0]</td>\n",
       "    </tr>\n",
       "    <tr>\n",
       "      <th>3</th>\n",
       "      <td>[0, 0, 0, 0, 0, 0, 0, 0, 0, 0, 0, 0, 0, 0, 0, ...</td>\n",
       "      <td>[0, 0, 1, 0, 0, 0, 0]</td>\n",
       "    </tr>\n",
       "    <tr>\n",
       "      <th>4</th>\n",
       "      <td>[0, 0, 0, 0, 0, 0, 0, 0, 0, 0, 0, 0, 0, 0, 0, ...</td>\n",
       "      <td>[0, 0, 0, 1, 0, 0, 0]</td>\n",
       "    </tr>\n",
       "    <tr>\n",
       "      <th>...</th>\n",
       "      <td>...</td>\n",
       "      <td>...</td>\n",
       "    </tr>\n",
       "    <tr>\n",
       "      <th>2703</th>\n",
       "      <td>[0, 0, 0, 0, 0, 0, 0, 0, 0, 0, 0, 0, 0, 0, 0, ...</td>\n",
       "      <td>[0, 0, 0, 0, 0, 1, 0]</td>\n",
       "    </tr>\n",
       "    <tr>\n",
       "      <th>2704</th>\n",
       "      <td>[0, 0, 0, 0, 0, 0, 0, 0, 0, 0, 0, 0, 0, 0, 0, ...</td>\n",
       "      <td>[0, 0, 0, 0, 0, 1, 0]</td>\n",
       "    </tr>\n",
       "    <tr>\n",
       "      <th>2705</th>\n",
       "      <td>[0, 0, 0, 0, 0, 0, 0, 0, 0, 0, 0, 0, 0, 0, 0, ...</td>\n",
       "      <td>[0, 0, 0, 0, 0, 1, 0]</td>\n",
       "    </tr>\n",
       "    <tr>\n",
       "      <th>2706</th>\n",
       "      <td>[0, 0, 0, 0, 1, 0, 0, 0, 0, 0, 0, 0, 0, 0, 0, ...</td>\n",
       "      <td>[0, 0, 0, 0, 0, 0, 1]</td>\n",
       "    </tr>\n",
       "    <tr>\n",
       "      <th>2707</th>\n",
       "      <td>[0, 0, 0, 0, 0, 0, 0, 0, 0, 0, 0, 0, 0, 0, 0, ...</td>\n",
       "      <td>[1, 0, 0, 0, 0, 0, 0]</td>\n",
       "    </tr>\n",
       "  </tbody>\n",
       "</table>\n",
       "<p>2708 rows × 2 columns</p>\n",
       "</div>"
      ],
      "text/plain": [
       "                                            word_vector          one_hot_label\n",
       "0     [0, 0, 0, 0, 0, 0, 0, 0, 0, 0, 0, 0, 0, 0, 0, ...  [1, 0, 0, 0, 0, 0, 0]\n",
       "1     [0, 0, 0, 0, 0, 0, 0, 0, 0, 0, 0, 0, 1, 0, 0, ...  [0, 1, 0, 0, 0, 0, 0]\n",
       "2     [0, 0, 0, 0, 0, 0, 0, 0, 0, 0, 0, 0, 0, 0, 0, ...  [0, 0, 1, 0, 0, 0, 0]\n",
       "3     [0, 0, 0, 0, 0, 0, 0, 0, 0, 0, 0, 0, 0, 0, 0, ...  [0, 0, 1, 0, 0, 0, 0]\n",
       "4     [0, 0, 0, 0, 0, 0, 0, 0, 0, 0, 0, 0, 0, 0, 0, ...  [0, 0, 0, 1, 0, 0, 0]\n",
       "...                                                 ...                    ...\n",
       "2703  [0, 0, 0, 0, 0, 0, 0, 0, 0, 0, 0, 0, 0, 0, 0, ...  [0, 0, 0, 0, 0, 1, 0]\n",
       "2704  [0, 0, 0, 0, 0, 0, 0, 0, 0, 0, 0, 0, 0, 0, 0, ...  [0, 0, 0, 0, 0, 1, 0]\n",
       "2705  [0, 0, 0, 0, 0, 0, 0, 0, 0, 0, 0, 0, 0, 0, 0, ...  [0, 0, 0, 0, 0, 1, 0]\n",
       "2706  [0, 0, 0, 0, 1, 0, 0, 0, 0, 0, 0, 0, 0, 0, 0, ...  [0, 0, 0, 0, 0, 0, 1]\n",
       "2707  [0, 0, 0, 0, 0, 0, 0, 0, 0, 0, 0, 0, 0, 0, 0, ...  [1, 0, 0, 0, 0, 0, 0]\n",
       "\n",
       "[2708 rows x 2 columns]"
      ]
     },
     "execution_count": 54,
     "metadata": {},
     "output_type": "execute_result"
    }
   ],
   "source": [
    "data"
   ]
  },
  {
   "cell_type": "code",
   "execution_count": 55,
   "id": "dcd561e3",
   "metadata": {},
   "outputs": [
    {
     "data": {
      "text/html": [
       "<div>\n",
       "<style scoped>\n",
       "    .dataframe tbody tr th:only-of-type {\n",
       "        vertical-align: middle;\n",
       "    }\n",
       "\n",
       "    .dataframe tbody tr th {\n",
       "        vertical-align: top;\n",
       "    }\n",
       "\n",
       "    .dataframe thead th {\n",
       "        text-align: right;\n",
       "    }\n",
       "</style>\n",
       "<table border=\"1\" class=\"dataframe\">\n",
       "  <thead>\n",
       "    <tr style=\"text-align: right;\">\n",
       "      <th></th>\n",
       "      <th>word_vector</th>\n",
       "      <th>one_hot_label</th>\n",
       "    </tr>\n",
       "  </thead>\n",
       "  <tbody>\n",
       "    <tr>\n",
       "      <th>1194</th>\n",
       "      <td>[0, 0, 0, 0, 0, 0, 0, 0, 0, 0, 0, 0, 0, 0, 0, ...</td>\n",
       "      <td>[0, 0, 0, 0, 0, 0, 1]</td>\n",
       "    </tr>\n",
       "    <tr>\n",
       "      <th>664</th>\n",
       "      <td>[0, 0, 0, 0, 0, 0, 0, 0, 0, 0, 0, 0, 0, 0, 0, ...</td>\n",
       "      <td>[1, 0, 0, 0, 0, 0, 0]</td>\n",
       "    </tr>\n",
       "    <tr>\n",
       "      <th>1670</th>\n",
       "      <td>[0, 0, 0, 0, 0, 0, 0, 0, 0, 0, 0, 0, 0, 0, 0, ...</td>\n",
       "      <td>[0, 0, 0, 0, 0, 1, 0]</td>\n",
       "    </tr>\n",
       "    <tr>\n",
       "      <th>2571</th>\n",
       "      <td>[0, 0, 0, 0, 0, 0, 0, 0, 0, 0, 0, 0, 0, 0, 0, ...</td>\n",
       "      <td>[1, 0, 0, 0, 0, 0, 0]</td>\n",
       "    </tr>\n",
       "    <tr>\n",
       "      <th>33</th>\n",
       "      <td>[0, 0, 0, 0, 0, 0, 0, 0, 0, 0, 0, 0, 0, 0, 0, ...</td>\n",
       "      <td>[1, 0, 0, 0, 0, 0, 0]</td>\n",
       "    </tr>\n",
       "    <tr>\n",
       "      <th>...</th>\n",
       "      <td>...</td>\n",
       "      <td>...</td>\n",
       "    </tr>\n",
       "    <tr>\n",
       "      <th>97</th>\n",
       "      <td>[0, 0, 0, 0, 0, 0, 0, 0, 1, 0, 0, 0, 0, 0, 0, ...</td>\n",
       "      <td>[1, 0, 0, 0, 0, 0, 0]</td>\n",
       "    </tr>\n",
       "    <tr>\n",
       "      <th>2607</th>\n",
       "      <td>[0, 0, 0, 0, 0, 0, 0, 0, 0, 0, 0, 0, 0, 0, 0, ...</td>\n",
       "      <td>[0, 0, 0, 0, 0, 0, 1]</td>\n",
       "    </tr>\n",
       "    <tr>\n",
       "      <th>1071</th>\n",
       "      <td>[0, 0, 0, 0, 0, 0, 0, 0, 0, 0, 0, 0, 0, 0, 0, ...</td>\n",
       "      <td>[0, 1, 0, 0, 0, 0, 0]</td>\n",
       "    </tr>\n",
       "    <tr>\n",
       "      <th>4</th>\n",
       "      <td>[0, 0, 0, 0, 0, 0, 0, 0, 0, 0, 0, 0, 0, 0, 0, ...</td>\n",
       "      <td>[0, 0, 0, 1, 0, 0, 0]</td>\n",
       "    </tr>\n",
       "    <tr>\n",
       "      <th>214</th>\n",
       "      <td>[0, 0, 0, 0, 0, 0, 0, 0, 0, 0, 0, 0, 0, 0, 0, ...</td>\n",
       "      <td>[1, 0, 0, 0, 0, 0, 0]</td>\n",
       "    </tr>\n",
       "  </tbody>\n",
       "</table>\n",
       "<p>2166 rows × 2 columns</p>\n",
       "</div>"
      ],
      "text/plain": [
       "                                            word_vector          one_hot_label\n",
       "1194  [0, 0, 0, 0, 0, 0, 0, 0, 0, 0, 0, 0, 0, 0, 0, ...  [0, 0, 0, 0, 0, 0, 1]\n",
       "664   [0, 0, 0, 0, 0, 0, 0, 0, 0, 0, 0, 0, 0, 0, 0, ...  [1, 0, 0, 0, 0, 0, 0]\n",
       "1670  [0, 0, 0, 0, 0, 0, 0, 0, 0, 0, 0, 0, 0, 0, 0, ...  [0, 0, 0, 0, 0, 1, 0]\n",
       "2571  [0, 0, 0, 0, 0, 0, 0, 0, 0, 0, 0, 0, 0, 0, 0, ...  [1, 0, 0, 0, 0, 0, 0]\n",
       "33    [0, 0, 0, 0, 0, 0, 0, 0, 0, 0, 0, 0, 0, 0, 0, ...  [1, 0, 0, 0, 0, 0, 0]\n",
       "...                                                 ...                    ...\n",
       "97    [0, 0, 0, 0, 0, 0, 0, 0, 1, 0, 0, 0, 0, 0, 0, ...  [1, 0, 0, 0, 0, 0, 0]\n",
       "2607  [0, 0, 0, 0, 0, 0, 0, 0, 0, 0, 0, 0, 0, 0, 0, ...  [0, 0, 0, 0, 0, 0, 1]\n",
       "1071  [0, 0, 0, 0, 0, 0, 0, 0, 0, 0, 0, 0, 0, 0, 0, ...  [0, 1, 0, 0, 0, 0, 0]\n",
       "4     [0, 0, 0, 0, 0, 0, 0, 0, 0, 0, 0, 0, 0, 0, 0, ...  [0, 0, 0, 1, 0, 0, 0]\n",
       "214   [0, 0, 0, 0, 0, 0, 0, 0, 0, 0, 0, 0, 0, 0, 0, ...  [1, 0, 0, 0, 0, 0, 0]\n",
       "\n",
       "[2166 rows x 2 columns]"
      ]
     },
     "execution_count": 55,
     "metadata": {},
     "output_type": "execute_result"
    }
   ],
   "source": [
    "train_data = data.sample(frac=0.8)\n",
    "test_data = data[~data.index.isin(train_data.index)]\n",
    "train_data"
   ]
  },
  {
   "cell_type": "code",
   "execution_count": 56,
   "id": "243cb495",
   "metadata": {},
   "outputs": [
    {
     "data": {
      "text/html": [
       "<div>\n",
       "<style scoped>\n",
       "    .dataframe tbody tr th:only-of-type {\n",
       "        vertical-align: middle;\n",
       "    }\n",
       "\n",
       "    .dataframe tbody tr th {\n",
       "        vertical-align: top;\n",
       "    }\n",
       "\n",
       "    .dataframe thead th {\n",
       "        text-align: right;\n",
       "    }\n",
       "</style>\n",
       "<table border=\"1\" class=\"dataframe\">\n",
       "  <thead>\n",
       "    <tr style=\"text-align: right;\">\n",
       "      <th></th>\n",
       "      <th>word_vector</th>\n",
       "      <th>one_hot_label</th>\n",
       "    </tr>\n",
       "  </thead>\n",
       "  <tbody>\n",
       "    <tr>\n",
       "      <th>6</th>\n",
       "      <td>[0, 0, 0, 0, 0, 0, 0, 0, 0, 0, 0, 0, 0, 0, 0, ...</td>\n",
       "      <td>[0, 0, 0, 0, 1, 0, 0]</td>\n",
       "    </tr>\n",
       "    <tr>\n",
       "      <th>14</th>\n",
       "      <td>[0, 0, 0, 0, 0, 0, 0, 0, 0, 0, 0, 0, 0, 0, 0, ...</td>\n",
       "      <td>[1, 0, 0, 0, 0, 0, 0]</td>\n",
       "    </tr>\n",
       "    <tr>\n",
       "      <th>17</th>\n",
       "      <td>[0, 0, 0, 0, 0, 0, 0, 0, 0, 0, 0, 0, 0, 0, 0, ...</td>\n",
       "      <td>[1, 0, 0, 0, 0, 0, 0]</td>\n",
       "    </tr>\n",
       "    <tr>\n",
       "      <th>29</th>\n",
       "      <td>[0, 0, 0, 0, 0, 0, 0, 0, 0, 0, 0, 0, 0, 0, 0, ...</td>\n",
       "      <td>[0, 1, 0, 0, 0, 0, 0]</td>\n",
       "    </tr>\n",
       "    <tr>\n",
       "      <th>31</th>\n",
       "      <td>[0, 0, 0, 0, 0, 0, 0, 0, 0, 0, 1, 0, 0, 0, 0, ...</td>\n",
       "      <td>[1, 0, 0, 0, 0, 0, 0]</td>\n",
       "    </tr>\n",
       "    <tr>\n",
       "      <th>...</th>\n",
       "      <td>...</td>\n",
       "      <td>...</td>\n",
       "    </tr>\n",
       "    <tr>\n",
       "      <th>2694</th>\n",
       "      <td>[0, 0, 0, 0, 0, 0, 0, 0, 0, 0, 0, 0, 0, 0, 0, ...</td>\n",
       "      <td>[0, 0, 0, 0, 1, 0, 0]</td>\n",
       "    </tr>\n",
       "    <tr>\n",
       "      <th>2695</th>\n",
       "      <td>[0, 0, 0, 0, 0, 0, 0, 0, 0, 0, 0, 0, 0, 0, 0, ...</td>\n",
       "      <td>[0, 0, 0, 0, 1, 0, 0]</td>\n",
       "    </tr>\n",
       "    <tr>\n",
       "      <th>2698</th>\n",
       "      <td>[0, 0, 0, 0, 0, 0, 0, 0, 0, 0, 0, 0, 0, 0, 0, ...</td>\n",
       "      <td>[0, 0, 0, 1, 0, 0, 0]</td>\n",
       "    </tr>\n",
       "    <tr>\n",
       "      <th>2699</th>\n",
       "      <td>[0, 0, 0, 0, 0, 0, 0, 0, 0, 0, 0, 0, 0, 0, 0, ...</td>\n",
       "      <td>[0, 0, 0, 1, 0, 0, 0]</td>\n",
       "    </tr>\n",
       "    <tr>\n",
       "      <th>2700</th>\n",
       "      <td>[0, 0, 0, 0, 1, 0, 0, 0, 0, 0, 0, 0, 0, 0, 0, ...</td>\n",
       "      <td>[0, 0, 0, 1, 0, 0, 0]</td>\n",
       "    </tr>\n",
       "  </tbody>\n",
       "</table>\n",
       "<p>542 rows × 2 columns</p>\n",
       "</div>"
      ],
      "text/plain": [
       "                                            word_vector          one_hot_label\n",
       "6     [0, 0, 0, 0, 0, 0, 0, 0, 0, 0, 0, 0, 0, 0, 0, ...  [0, 0, 0, 0, 1, 0, 0]\n",
       "14    [0, 0, 0, 0, 0, 0, 0, 0, 0, 0, 0, 0, 0, 0, 0, ...  [1, 0, 0, 0, 0, 0, 0]\n",
       "17    [0, 0, 0, 0, 0, 0, 0, 0, 0, 0, 0, 0, 0, 0, 0, ...  [1, 0, 0, 0, 0, 0, 0]\n",
       "29    [0, 0, 0, 0, 0, 0, 0, 0, 0, 0, 0, 0, 0, 0, 0, ...  [0, 1, 0, 0, 0, 0, 0]\n",
       "31    [0, 0, 0, 0, 0, 0, 0, 0, 0, 0, 1, 0, 0, 0, 0, ...  [1, 0, 0, 0, 0, 0, 0]\n",
       "...                                                 ...                    ...\n",
       "2694  [0, 0, 0, 0, 0, 0, 0, 0, 0, 0, 0, 0, 0, 0, 0, ...  [0, 0, 0, 0, 1, 0, 0]\n",
       "2695  [0, 0, 0, 0, 0, 0, 0, 0, 0, 0, 0, 0, 0, 0, 0, ...  [0, 0, 0, 0, 1, 0, 0]\n",
       "2698  [0, 0, 0, 0, 0, 0, 0, 0, 0, 0, 0, 0, 0, 0, 0, ...  [0, 0, 0, 1, 0, 0, 0]\n",
       "2699  [0, 0, 0, 0, 0, 0, 0, 0, 0, 0, 0, 0, 0, 0, 0, ...  [0, 0, 0, 1, 0, 0, 0]\n",
       "2700  [0, 0, 0, 0, 1, 0, 0, 0, 0, 0, 0, 0, 0, 0, 0, ...  [0, 0, 0, 1, 0, 0, 0]\n",
       "\n",
       "[542 rows x 2 columns]"
      ]
     },
     "execution_count": 56,
     "metadata": {},
     "output_type": "execute_result"
    }
   ],
   "source": [
    "test_data"
   ]
  },
  {
   "cell_type": "code",
   "execution_count": 57,
   "id": "914f75f1",
   "metadata": {},
   "outputs": [],
   "source": [
    "X_train, y_train, X_test, y_test = np.array(train_data['word_vector']), np.array(train_data['one_hot_label']), np.array(test_data['word_vector']), np.array(test_data['one_hot_label'])"
   ]
  },
  {
   "cell_type": "code",
   "execution_count": 58,
   "id": "7c9bc1c0",
   "metadata": {},
   "outputs": [],
   "source": [
    "y_train = [np.array(x) for x in y_train]\n",
    "# y_train = np.argmax(y_train,axis=1)\n",
    "y_test = [np.array(x) for x in y_test]\n",
    "# y_test = np.argsort(y_test,axis=1)"
   ]
  },
  {
   "cell_type": "code",
   "execution_count": 59,
   "id": "85b36f83",
   "metadata": {},
   "outputs": [],
   "source": [
    "X_train = [np.array(x) for x in X_train]\n",
    "X_test = [np.array(x) for x in X_test]"
   ]
  },
  {
   "cell_type": "code",
   "execution_count": 60,
   "id": "58c4120e",
   "metadata": {},
   "outputs": [
    {
     "data": {
      "text/plain": [
       "2166"
      ]
     },
     "execution_count": 60,
     "metadata": {},
     "output_type": "execute_result"
    }
   ],
   "source": [
    "len(y_train)"
   ]
  },
  {
   "cell_type": "code",
   "execution_count": 61,
   "id": "9be41346",
   "metadata": {},
   "outputs": [
    {
     "data": {
      "text/plain": [
       "2166"
      ]
     },
     "execution_count": 61,
     "metadata": {},
     "output_type": "execute_result"
    }
   ],
   "source": [
    "len(X_train)"
   ]
  },
  {
   "cell_type": "code",
   "execution_count": 62,
   "id": "12076070",
   "metadata": {},
   "outputs": [
    {
     "data": {
      "text/plain": [
       "542"
      ]
     },
     "execution_count": 62,
     "metadata": {},
     "output_type": "execute_result"
    }
   ],
   "source": [
    "len(X_test)"
   ]
  },
  {
   "cell_type": "code",
   "execution_count": 63,
   "id": "fd3cab5a",
   "metadata": {},
   "outputs": [
    {
     "data": {
      "text/plain": [
       "542"
      ]
     },
     "execution_count": 63,
     "metadata": {},
     "output_type": "execute_result"
    }
   ],
   "source": [
    "len(y_test)"
   ]
  },
  {
   "cell_type": "code",
   "execution_count": 64,
   "id": "95f4d39d",
   "metadata": {},
   "outputs": [],
   "source": [
    "y_test_lr = []\n",
    "y_train_lr = []\n",
    "for i in range(len(y_test)):\n",
    "    y_test_lr.append(y_test[i].tolist().index(1))\n",
    "for i in range(len(y_train)):\n",
    "    y_train_lr.append(y_train[i].tolist().index(1))\n",
    "y_train_lr, y_test_lr = np.array(y_train_lr), np.array(y_test_lr)\n",
    "y_train_ori = [np.array(x) for x in y_train_lr]\n",
    "y_test_ori = [np.array(x) for x in y_test_lr]"
   ]
  },
  {
   "cell_type": "markdown",
   "id": "6889b205",
   "metadata": {},
   "source": [
    "# Classification(without one-hot encoding)"
   ]
  },
  {
   "cell_type": "markdown",
   "id": "5ec9fc12",
   "metadata": {},
   "source": [
    "## MLP"
   ]
  },
  {
   "cell_type": "code",
   "execution_count": 65,
   "id": "4fd3b7af",
   "metadata": {},
   "outputs": [
    {
     "data": {
      "text/html": [
       "<div>\n",
       "<style scoped>\n",
       "    .dataframe tbody tr th:only-of-type {\n",
       "        vertical-align: middle;\n",
       "    }\n",
       "\n",
       "    .dataframe tbody tr th {\n",
       "        vertical-align: top;\n",
       "    }\n",
       "\n",
       "    .dataframe thead th {\n",
       "        text-align: right;\n",
       "    }\n",
       "</style>\n",
       "<table border=\"1\" class=\"dataframe\">\n",
       "  <thead>\n",
       "    <tr style=\"text-align: right;\">\n",
       "      <th></th>\n",
       "      <th>Model</th>\n",
       "      <th>Training Accuracy %</th>\n",
       "      <th>Testing Accuracy %</th>\n",
       "    </tr>\n",
       "  </thead>\n",
       "  <tbody>\n",
       "    <tr>\n",
       "      <th>0</th>\n",
       "      <td>Neural Network</td>\n",
       "      <td>1.0</td>\n",
       "      <td>0.714022</td>\n",
       "    </tr>\n",
       "  </tbody>\n",
       "</table>\n",
       "</div>"
      ],
      "text/plain": [
       "            Model  Training Accuracy %  Testing Accuracy %\n",
       "0  Neural Network                  1.0            0.714022"
      ]
     },
     "execution_count": 65,
     "metadata": {},
     "output_type": "execute_result"
    }
   ],
   "source": [
    "from sklearn.neural_network import MLPClassifier\n",
    "\n",
    "clf_mlp = MLPClassifier(solver='sgd', alpha=1e-5,\n",
    "                    hidden_layer_sizes=(1000, 500, 100, 10), random_state=1,max_iter=1000)\n",
    "clf_mlp.fit(X_train, y_train_ori)\n",
    "train_score = clf_mlp.score(X_train, y_train_ori)\n",
    "test_score = clf_mlp.score(X_test, y_test_ori)\n",
    "\n",
    "compare_model_ori = pd.DataFrame(data=[[\"Neural Network\", train_score, test_score]],columns=['Model', 'Training Accuracy %', 'Testing Accuracy %'])\n",
    "# compare_models = compare_models.append(compare_model_3,ignore_index=True)\n",
    "compare_model_ori"
   ]
  },
  {
   "cell_type": "markdown",
   "id": "209a84e6",
   "metadata": {},
   "source": [
    "## Decision Tree"
   ]
  },
  {
   "cell_type": "code",
   "execution_count": 66,
   "id": "c9326384",
   "metadata": {},
   "outputs": [
    {
     "data": {
      "text/html": [
       "<div>\n",
       "<style scoped>\n",
       "    .dataframe tbody tr th:only-of-type {\n",
       "        vertical-align: middle;\n",
       "    }\n",
       "\n",
       "    .dataframe tbody tr th {\n",
       "        vertical-align: top;\n",
       "    }\n",
       "\n",
       "    .dataframe thead th {\n",
       "        text-align: right;\n",
       "    }\n",
       "</style>\n",
       "<table border=\"1\" class=\"dataframe\">\n",
       "  <thead>\n",
       "    <tr style=\"text-align: right;\">\n",
       "      <th></th>\n",
       "      <th>Model</th>\n",
       "      <th>Training Accuracy %</th>\n",
       "      <th>Testing Accuracy %</th>\n",
       "    </tr>\n",
       "  </thead>\n",
       "  <tbody>\n",
       "    <tr>\n",
       "      <th>0</th>\n",
       "      <td>Neural Network</td>\n",
       "      <td>1.0</td>\n",
       "      <td>0.714022</td>\n",
       "    </tr>\n",
       "    <tr>\n",
       "      <th>1</th>\n",
       "      <td>Decision Tree</td>\n",
       "      <td>1.0</td>\n",
       "      <td>0.638376</td>\n",
       "    </tr>\n",
       "  </tbody>\n",
       "</table>\n",
       "</div>"
      ],
      "text/plain": [
       "            Model  Training Accuracy %  Testing Accuracy %\n",
       "0  Neural Network                  1.0            0.714022\n",
       "1   Decision Tree                  1.0            0.638376"
      ]
     },
     "execution_count": 66,
     "metadata": {},
     "output_type": "execute_result"
    }
   ],
   "source": [
    "from sklearn.tree import DecisionTreeClassifier\n",
    "\n",
    "clf_dt = DecisionTreeClassifier()\n",
    "clf_dt.fit(X_train, y_train_ori)\n",
    "train_score = clf_dt.score(X_train, y_train_ori)\n",
    "test_score = clf_dt.score(X_test, y_test_ori)\n",
    "\n",
    "compare_model = pd.DataFrame(data=[[\"Decision Tree\", train_score, test_score]],columns=['Model', 'Training Accuracy %', 'Testing Accuracy %'])\n",
    "compare_model_ori = pd.concat([compare_model_ori, compare_model], ignore_index=True)\n",
    "compare_model_ori"
   ]
  },
  {
   "cell_type": "markdown",
   "id": "28f406f7",
   "metadata": {},
   "source": [
    "## Logistic Regression"
   ]
  },
  {
   "cell_type": "code",
   "execution_count": 67,
   "id": "7e64c2a6",
   "metadata": {},
   "outputs": [
    {
     "data": {
      "text/html": [
       "<div>\n",
       "<style scoped>\n",
       "    .dataframe tbody tr th:only-of-type {\n",
       "        vertical-align: middle;\n",
       "    }\n",
       "\n",
       "    .dataframe tbody tr th {\n",
       "        vertical-align: top;\n",
       "    }\n",
       "\n",
       "    .dataframe thead th {\n",
       "        text-align: right;\n",
       "    }\n",
       "</style>\n",
       "<table border=\"1\" class=\"dataframe\">\n",
       "  <thead>\n",
       "    <tr style=\"text-align: right;\">\n",
       "      <th></th>\n",
       "      <th>Model</th>\n",
       "      <th>Training Accuracy %</th>\n",
       "      <th>Testing Accuracy %</th>\n",
       "    </tr>\n",
       "  </thead>\n",
       "  <tbody>\n",
       "    <tr>\n",
       "      <th>0</th>\n",
       "      <td>Neural Network</td>\n",
       "      <td>1.000000</td>\n",
       "      <td>0.714022</td>\n",
       "    </tr>\n",
       "    <tr>\n",
       "      <th>1</th>\n",
       "      <td>Decision Tree</td>\n",
       "      <td>1.000000</td>\n",
       "      <td>0.638376</td>\n",
       "    </tr>\n",
       "    <tr>\n",
       "      <th>2</th>\n",
       "      <td>Logistic Regression</td>\n",
       "      <td>0.988458</td>\n",
       "      <td>0.747232</td>\n",
       "    </tr>\n",
       "  </tbody>\n",
       "</table>\n",
       "</div>"
      ],
      "text/plain": [
       "                 Model  Training Accuracy %  Testing Accuracy %\n",
       "0       Neural Network             1.000000            0.714022\n",
       "1        Decision Tree             1.000000            0.638376\n",
       "2  Logistic Regression             0.988458            0.747232"
      ]
     },
     "execution_count": 67,
     "metadata": {},
     "output_type": "execute_result"
    }
   ],
   "source": [
    "from sklearn.linear_model import LogisticRegression\n",
    "\n",
    "clf_lr = LogisticRegression()\n",
    "clf_lr.fit(X_train, y_train_ori)\n",
    "\n",
    "train_score = clf_lr.score(X_train, y_train_ori)\n",
    "test_score = clf_lr.score(X_test, y_test_ori)\n",
    "compare_model = pd.DataFrame(data=[[\"Logistic Regression\", train_score, test_score]],columns=['Model', 'Training Accuracy %', 'Testing Accuracy %'])\n",
    "compare_model_ori = pd.concat([compare_model_ori, compare_model], ignore_index=True)\n",
    "compare_model_ori"
   ]
  },
  {
   "cell_type": "markdown",
   "id": "d83a91bb",
   "metadata": {},
   "source": [
    "## KNN model"
   ]
  },
  {
   "cell_type": "code",
   "execution_count": 68,
   "id": "cd2b0231",
   "metadata": {},
   "outputs": [],
   "source": [
    "# from sklearn.metrics import accuracy_score,roc_curve,auc\n",
    "# from sklearn.model_selection import cross_val_score,ShuffleSplit,cross_validate\n",
    "# train_label = train_label.values.ravel()"
   ]
  },
  {
   "cell_type": "code",
   "execution_count": 69,
   "id": "7c50cdab",
   "metadata": {},
   "outputs": [
    {
     "data": {
      "text/html": [
       "<div>\n",
       "<style scoped>\n",
       "    .dataframe tbody tr th:only-of-type {\n",
       "        vertical-align: middle;\n",
       "    }\n",
       "\n",
       "    .dataframe tbody tr th {\n",
       "        vertical-align: top;\n",
       "    }\n",
       "\n",
       "    .dataframe thead th {\n",
       "        text-align: right;\n",
       "    }\n",
       "</style>\n",
       "<table border=\"1\" class=\"dataframe\">\n",
       "  <thead>\n",
       "    <tr style=\"text-align: right;\">\n",
       "      <th></th>\n",
       "      <th>Model</th>\n",
       "      <th>Training Accuracy %</th>\n",
       "      <th>Testing Accuracy %</th>\n",
       "    </tr>\n",
       "  </thead>\n",
       "  <tbody>\n",
       "    <tr>\n",
       "      <th>0</th>\n",
       "      <td>Neural Network</td>\n",
       "      <td>1.000000</td>\n",
       "      <td>0.714022</td>\n",
       "    </tr>\n",
       "    <tr>\n",
       "      <th>1</th>\n",
       "      <td>Decision Tree</td>\n",
       "      <td>1.000000</td>\n",
       "      <td>0.638376</td>\n",
       "    </tr>\n",
       "    <tr>\n",
       "      <th>2</th>\n",
       "      <td>Logistic Regression</td>\n",
       "      <td>0.988458</td>\n",
       "      <td>0.747232</td>\n",
       "    </tr>\n",
       "    <tr>\n",
       "      <th>3</th>\n",
       "      <td>KNN</td>\n",
       "      <td>0.626962</td>\n",
       "      <td>0.509225</td>\n",
       "    </tr>\n",
       "  </tbody>\n",
       "</table>\n",
       "</div>"
      ],
      "text/plain": [
       "                 Model  Training Accuracy %  Testing Accuracy %\n",
       "0       Neural Network             1.000000            0.714022\n",
       "1        Decision Tree             1.000000            0.638376\n",
       "2  Logistic Regression             0.988458            0.747232\n",
       "3                  KNN             0.626962            0.509225"
      ]
     },
     "execution_count": 69,
     "metadata": {},
     "output_type": "execute_result"
    }
   ],
   "source": [
    "from sklearn.neighbors import KNeighborsClassifier\n",
    "clf_knn = KNeighborsClassifier()\n",
    "clf_knn.fit(X_train, y_train)\n",
    "test_results = []\n",
    "for n in range(1, 15):\n",
    "    clf_knn = KNeighborsClassifier(n_neighbors=n)\n",
    "    clf_knn.fit(X_train, y_train_ori)\n",
    "    train_score = clf_knn.score(X_train, y_train_ori)\n",
    "    test_score = clf_knn.score(X_test, y_test_ori)\n",
    "    test_results.append(test_score)\n",
    "#     print(n,\":\",train_score, test_score)\n",
    "aim_n = test_results.index(max(test_results)) + 1\n",
    "clf_knn = KNeighborsClassifier(n_neighbors=aim_n)\n",
    "clf_knn.fit(X_train, y_train_ori)\n",
    "train_score = clf_knn.score(X_train, y_train_ori)\n",
    "test_score = clf_knn.score(X_test, y_test_ori)\n",
    "compare_model = pd.DataFrame(data=[[\"KNN\", train_score, test_score]],columns=['Model', 'Training Accuracy %', 'Testing Accuracy %'])\n",
    "compare_model_ori = pd.concat([compare_model_ori, compare_model], ignore_index=True)\n",
    "compare_model_ori\n",
    "# cv = ShuffleSplit(n_splits=10, test_size=0.4, random_state=0)\n",
    "# scores = cross_validate(clf_knn,data_aft_stdsscsl,train_label,cv=cv,return_train_score=True)\n",
    "# print(\"Train accuracy of KNN: {:.2f}%\".format(scores['train_score'].mean()*100))\n",
    "# print(\"Test accuracy of KNN: {:.2f}%\".format(scores['test_score'].mean()*100))\n",
    "# compare_models = pd.DataFrame(data=[[\"KNN\", scores['train_score'].mean()*100, scores['test_score'].mean()*100]],columns=['Model', 'Training Accuracy %', 'Testing Accuracy %'])\n",
    "# compare_models"
   ]
  },
  {
   "cell_type": "markdown",
   "id": "315bc058",
   "metadata": {},
   "source": [
    "## Ensemble"
   ]
  },
  {
   "cell_type": "code",
   "execution_count": 70,
   "id": "b8595968",
   "metadata": {},
   "outputs": [
    {
     "name": "stdout",
     "output_type": "stream",
     "text": [
      "1 1 8 : 1.0 0.7140221402214022\n",
      "1 2 7 : 1.0 0.7140221402214022\n",
      "1 3 6 : 1.0 0.7140221402214022\n",
      "1 4 5 : 1.0 0.7084870848708487\n",
      "1 5 4 : 1.0 0.6715867158671587\n",
      "1 6 3 : 1.0 0.6107011070110702\n",
      "1 7 2 : 1.0 0.6328413284132841\n",
      "2 1 7 : 1.0 0.7140221402214022\n",
      "2 2 6 : 1.0 0.7140221402214022\n",
      "2 3 5 : 1.0 0.7047970479704797\n",
      "2 4 4 : 1.0 0.6900369003690037\n",
      "2 5 3 : 1.0 0.6697416974169742\n",
      "2 6 2 : 1.0 0.6383763837638377\n",
      "3 1 6 : 1.0 0.7140221402214022\n",
      "3 2 5 : 1.0 0.7066420664206642\n",
      "3 3 4 : 1.0 0.7066420664206642\n",
      "3 4 3 : 1.0 0.6789667896678967\n",
      "3 5 2 : 1.0 0.6642066420664207\n",
      "4 1 5 : 1.0 0.7029520295202952\n",
      "4 2 4 : 1.0 0.6863468634686347\n",
      "4 3 3 : 1.0 0.6586715867158671\n",
      "4 4 2 : 1.0 0.6715867158671587\n",
      "5 1 4 : 0.7691597414589104 0.5682656826568265\n",
      "5 2 3 : 0.7691597414589104 0.5682656826568265\n",
      "5 3 2 : 0.7691597414589104 0.5701107011070111\n",
      "6 1 3 : 0.6269621421975993 0.5092250922509225\n",
      "6 2 2 : 0.6269621421975993 0.5092250922509225\n",
      "7 1 2 : 0.6269621421975993 0.5092250922509225\n"
     ]
    }
   ],
   "source": [
    "from sklearn.ensemble import VotingClassifier\n",
    "\n",
    "test_results = []\n",
    "weights = []\n",
    "for i in range(1, 9):\n",
    "    for j in range(1, 9 - i):\n",
    "        k = 10 - i - j\n",
    "        clf_ensembel = VotingClassifier(estimators=[('knn',clf_knn), ('decision tree',clf_dt),('neural network',clf_mlp)],voting='hard',weights=[i, j, k])\n",
    "        clf_ensembel.fit(X_train, y_train_ori)\n",
    "        train_score = clf_ensembel.score(X_train, y_train_ori)\n",
    "        test_score = clf_ensembel.score(X_test, y_test_ori)\n",
    "        test_results.append(test_score)\n",
    "        weights.append([i, j, k])\n",
    "        print(i, j, k, \":\", train_score, test_score)\n",
    "\n",
    "# clf_ensembel = VotingClassifier(estimators=[('knn',clf_knn), ('decision tree',clf_dt),('neural network',clf_mlp)],voting='hard',weights=[1,3,2])\n",
    "\n",
    "# clf_ensembel.fit(X_train, y_train_ori)\n",
    "\n",
    "# train_score = clf_ensembel.score(X_train, y_train_ori)\n",
    "# test_score = clf_ensembel.score(X_test, y_test_ori)\n",
    "# train_score, test_score\n",
    "# compare_model = pd.DataFrame(data=[[\"Ensembel\", train_score, test_score]],columns=['Model', 'Training Accuracy %', 'Testing Accuracy %'])\n",
    "# compare_models = pd.concat([compare_models, compare_model], ignore_index=True)\n",
    "# compare_models"
   ]
  },
  {
   "cell_type": "code",
   "execution_count": 71,
   "id": "6c25a416",
   "metadata": {},
   "outputs": [
    {
     "data": {
      "text/html": [
       "<div>\n",
       "<style scoped>\n",
       "    .dataframe tbody tr th:only-of-type {\n",
       "        vertical-align: middle;\n",
       "    }\n",
       "\n",
       "    .dataframe tbody tr th {\n",
       "        vertical-align: top;\n",
       "    }\n",
       "\n",
       "    .dataframe thead th {\n",
       "        text-align: right;\n",
       "    }\n",
       "</style>\n",
       "<table border=\"1\" class=\"dataframe\">\n",
       "  <thead>\n",
       "    <tr style=\"text-align: right;\">\n",
       "      <th></th>\n",
       "      <th>Model</th>\n",
       "      <th>Training Accuracy %</th>\n",
       "      <th>Testing Accuracy %</th>\n",
       "    </tr>\n",
       "  </thead>\n",
       "  <tbody>\n",
       "    <tr>\n",
       "      <th>0</th>\n",
       "      <td>Neural Network</td>\n",
       "      <td>1.000000</td>\n",
       "      <td>0.714022</td>\n",
       "    </tr>\n",
       "    <tr>\n",
       "      <th>1</th>\n",
       "      <td>Decision Tree</td>\n",
       "      <td>1.000000</td>\n",
       "      <td>0.638376</td>\n",
       "    </tr>\n",
       "    <tr>\n",
       "      <th>2</th>\n",
       "      <td>Logistic Regression</td>\n",
       "      <td>0.988458</td>\n",
       "      <td>0.747232</td>\n",
       "    </tr>\n",
       "    <tr>\n",
       "      <th>3</th>\n",
       "      <td>KNN</td>\n",
       "      <td>0.626962</td>\n",
       "      <td>0.509225</td>\n",
       "    </tr>\n",
       "    <tr>\n",
       "      <th>4</th>\n",
       "      <td>Ensemble</td>\n",
       "      <td>1.000000</td>\n",
       "      <td>0.714022</td>\n",
       "    </tr>\n",
       "  </tbody>\n",
       "</table>\n",
       "</div>"
      ],
      "text/plain": [
       "                 Model  Training Accuracy %  Testing Accuracy %\n",
       "0       Neural Network             1.000000            0.714022\n",
       "1        Decision Tree             1.000000            0.638376\n",
       "2  Logistic Regression             0.988458            0.747232\n",
       "3                  KNN             0.626962            0.509225\n",
       "4             Ensemble             1.000000            0.714022"
      ]
     },
     "execution_count": 71,
     "metadata": {},
     "output_type": "execute_result"
    }
   ],
   "source": [
    "from random import choice\n",
    "\n",
    "chosen_weights = []\n",
    "for i in range(len(test_results)):\n",
    "    if test_results[i] == max(test_results):\n",
    "        chosen_weights.append(weights[i])\n",
    "\n",
    "clf_ensembel = VotingClassifier(estimators=[('knn',clf_knn), ('decision tree',clf_dt),('neural network',clf_mlp)],voting='hard',weights=choice(chosen_weights))\n",
    "clf_ensembel.fit(X_train, y_train_ori)\n",
    "train_score = clf_ensembel.score(X_train, y_train_ori)\n",
    "test_score = clf_ensembel.score(X_test, y_test_ori)\n",
    "compare_model = pd.DataFrame(data=[[\"Ensemble\", train_score, test_score]],columns=['Model', 'Training Accuracy %', 'Testing Accuracy %'])\n",
    "compare_model_ori = pd.concat([compare_model_ori, compare_model], ignore_index=True)\n",
    "compare_model_ori"
   ]
  },
  {
   "cell_type": "code",
   "execution_count": 72,
   "id": "9e05dc44",
   "metadata": {},
   "outputs": [],
   "source": [
    "compare_model_ori.to_csv('./compare_model_ori.csv')"
   ]
  },
  {
   "cell_type": "markdown",
   "id": "beac82db",
   "metadata": {},
   "source": [
    "# Classification(with one-hot encoding)"
   ]
  },
  {
   "cell_type": "markdown",
   "id": "de5532eb",
   "metadata": {},
   "source": [
    "## MLP"
   ]
  },
  {
   "cell_type": "code",
   "execution_count": 73,
   "id": "d4d1456b",
   "metadata": {},
   "outputs": [
    {
     "data": {
      "text/html": [
       "<div>\n",
       "<style scoped>\n",
       "    .dataframe tbody tr th:only-of-type {\n",
       "        vertical-align: middle;\n",
       "    }\n",
       "\n",
       "    .dataframe tbody tr th {\n",
       "        vertical-align: top;\n",
       "    }\n",
       "\n",
       "    .dataframe thead th {\n",
       "        text-align: right;\n",
       "    }\n",
       "</style>\n",
       "<table border=\"1\" class=\"dataframe\">\n",
       "  <thead>\n",
       "    <tr style=\"text-align: right;\">\n",
       "      <th></th>\n",
       "      <th>Model</th>\n",
       "      <th>Training Accuracy %</th>\n",
       "      <th>Testing Accuracy %</th>\n",
       "    </tr>\n",
       "  </thead>\n",
       "  <tbody>\n",
       "    <tr>\n",
       "      <th>0</th>\n",
       "      <td>Neural Network</td>\n",
       "      <td>0.999077</td>\n",
       "      <td>0.614391</td>\n",
       "    </tr>\n",
       "  </tbody>\n",
       "</table>\n",
       "</div>"
      ],
      "text/plain": [
       "            Model  Training Accuracy %  Testing Accuracy %\n",
       "0  Neural Network             0.999077            0.614391"
      ]
     },
     "execution_count": 73,
     "metadata": {},
     "output_type": "execute_result"
    }
   ],
   "source": [
    "from sklearn.neural_network import MLPClassifier\n",
    "\n",
    "clf_mlp = MLPClassifier(solver='sgd', alpha=1e-5,\n",
    "                    hidden_layer_sizes=(1000, 500, 100, 10), random_state=1,max_iter=1000)\n",
    "clf_mlp.fit(X_train, y_train)\n",
    "train_score = clf_mlp.score(X_train, y_train)\n",
    "test_score = clf_mlp.score(X_test, y_test)\n",
    "\n",
    "compare_models_one_hot = pd.DataFrame(data=[[\"Neural Network\", train_score, test_score]],columns=['Model', 'Training Accuracy %', 'Testing Accuracy %'])\n",
    "# compare_models = compare_models.append(compare_model_3,ignore_index=True)\n",
    "compare_models_one_hot"
   ]
  },
  {
   "cell_type": "markdown",
   "id": "83a21bfa",
   "metadata": {},
   "source": [
    "## Decision Tree"
   ]
  },
  {
   "cell_type": "code",
   "execution_count": 74,
   "id": "2ab0558e",
   "metadata": {},
   "outputs": [
    {
     "data": {
      "text/html": [
       "<div>\n",
       "<style scoped>\n",
       "    .dataframe tbody tr th:only-of-type {\n",
       "        vertical-align: middle;\n",
       "    }\n",
       "\n",
       "    .dataframe tbody tr th {\n",
       "        vertical-align: top;\n",
       "    }\n",
       "\n",
       "    .dataframe thead th {\n",
       "        text-align: right;\n",
       "    }\n",
       "</style>\n",
       "<table border=\"1\" class=\"dataframe\">\n",
       "  <thead>\n",
       "    <tr style=\"text-align: right;\">\n",
       "      <th></th>\n",
       "      <th>Model</th>\n",
       "      <th>Training Accuracy %</th>\n",
       "      <th>Testing Accuracy %</th>\n",
       "    </tr>\n",
       "  </thead>\n",
       "  <tbody>\n",
       "    <tr>\n",
       "      <th>0</th>\n",
       "      <td>Neural Network</td>\n",
       "      <td>0.999077</td>\n",
       "      <td>0.614391</td>\n",
       "    </tr>\n",
       "    <tr>\n",
       "      <th>1</th>\n",
       "      <td>Decision Tree</td>\n",
       "      <td>1.000000</td>\n",
       "      <td>0.638376</td>\n",
       "    </tr>\n",
       "  </tbody>\n",
       "</table>\n",
       "</div>"
      ],
      "text/plain": [
       "            Model  Training Accuracy %  Testing Accuracy %\n",
       "0  Neural Network             0.999077            0.614391\n",
       "1   Decision Tree             1.000000            0.638376"
      ]
     },
     "execution_count": 74,
     "metadata": {},
     "output_type": "execute_result"
    }
   ],
   "source": [
    "from sklearn.tree import DecisionTreeClassifier\n",
    "\n",
    "clf_dt = DecisionTreeClassifier()\n",
    "clf_dt.fit(X_train, y_train)\n",
    "train_score = clf_dt.score(X_train, y_train)\n",
    "test_score = clf_dt.score(X_test, y_test)\n",
    "\n",
    "compare_model = pd.DataFrame(data=[[\"Decision Tree\", train_score, test_score]],columns=['Model', 'Training Accuracy %', 'Testing Accuracy %'])\n",
    "compare_models_one_hot = pd.concat([compare_models_one_hot, compare_model], ignore_index=True)\n",
    "compare_models_one_hot"
   ]
  },
  {
   "cell_type": "markdown",
   "id": "66845000",
   "metadata": {},
   "source": [
    "## KNN model"
   ]
  },
  {
   "cell_type": "code",
   "execution_count": 75,
   "id": "42fb0460",
   "metadata": {},
   "outputs": [
    {
     "data": {
      "text/html": [
       "<div>\n",
       "<style scoped>\n",
       "    .dataframe tbody tr th:only-of-type {\n",
       "        vertical-align: middle;\n",
       "    }\n",
       "\n",
       "    .dataframe tbody tr th {\n",
       "        vertical-align: top;\n",
       "    }\n",
       "\n",
       "    .dataframe thead th {\n",
       "        text-align: right;\n",
       "    }\n",
       "</style>\n",
       "<table border=\"1\" class=\"dataframe\">\n",
       "  <thead>\n",
       "    <tr style=\"text-align: right;\">\n",
       "      <th></th>\n",
       "      <th>Model</th>\n",
       "      <th>Training Accuracy %</th>\n",
       "      <th>Testing Accuracy %</th>\n",
       "    </tr>\n",
       "  </thead>\n",
       "  <tbody>\n",
       "    <tr>\n",
       "      <th>0</th>\n",
       "      <td>Neural Network</td>\n",
       "      <td>0.999077</td>\n",
       "      <td>0.614391</td>\n",
       "    </tr>\n",
       "    <tr>\n",
       "      <th>1</th>\n",
       "      <td>Decision Tree</td>\n",
       "      <td>1.000000</td>\n",
       "      <td>0.638376</td>\n",
       "    </tr>\n",
       "    <tr>\n",
       "      <th>2</th>\n",
       "      <td>KNN</td>\n",
       "      <td>1.000000</td>\n",
       "      <td>0.453875</td>\n",
       "    </tr>\n",
       "  </tbody>\n",
       "</table>\n",
       "</div>"
      ],
      "text/plain": [
       "            Model  Training Accuracy %  Testing Accuracy %\n",
       "0  Neural Network             0.999077            0.614391\n",
       "1   Decision Tree             1.000000            0.638376\n",
       "2             KNN             1.000000            0.453875"
      ]
     },
     "execution_count": 75,
     "metadata": {},
     "output_type": "execute_result"
    }
   ],
   "source": [
    "from sklearn.neighbors import KNeighborsClassifier\n",
    "clf_knn = KNeighborsClassifier()\n",
    "clf_knn.fit(X_train, y_train)\n",
    "test_results = []\n",
    "for n in range(1, 15):\n",
    "    clf_knn = KNeighborsClassifier(n_neighbors=n)\n",
    "    clf_knn.fit(X_train, y_train)\n",
    "    train_score = clf_knn.score(X_train, y_train)\n",
    "    test_score = clf_knn.score(X_test, y_test)\n",
    "    test_results.append(test_score)\n",
    "#     print(n,\":\",train_score, test_score)\n",
    "aim_n = test_results.index(max(test_results)) + 1\n",
    "clf_knn = KNeighborsClassifier(n_neighbors=aim_n)\n",
    "clf_knn.fit(X_train, y_train)\n",
    "train_score = clf_knn.score(X_train, y_train)\n",
    "test_score = clf_knn.score(X_test, y_test)\n",
    "compare_model = pd.DataFrame(data=[[\"KNN\", train_score, test_score]],columns=['Model', 'Training Accuracy %', 'Testing Accuracy %'])\n",
    "compare_models_one_hot = pd.concat([compare_models_one_hot, compare_model], ignore_index=True)\n",
    "compare_models_one_hot"
   ]
  },
  {
   "cell_type": "code",
   "execution_count": 76,
   "id": "fc1ab785",
   "metadata": {},
   "outputs": [],
   "source": [
    "compare_models_one_hot.to_csv('./compare_models_one_hot.csv')"
   ]
  },
  {
   "cell_type": "code",
   "execution_count": 77,
   "id": "17bd4303",
   "metadata": {},
   "outputs": [
    {
     "data": {
      "text/html": [
       "<div>\n",
       "<style scoped>\n",
       "    .dataframe tbody tr th:only-of-type {\n",
       "        vertical-align: middle;\n",
       "    }\n",
       "\n",
       "    .dataframe tbody tr th {\n",
       "        vertical-align: top;\n",
       "    }\n",
       "\n",
       "    .dataframe thead th {\n",
       "        text-align: right;\n",
       "    }\n",
       "</style>\n",
       "<table border=\"1\" class=\"dataframe\">\n",
       "  <thead>\n",
       "    <tr style=\"text-align: right;\">\n",
       "      <th></th>\n",
       "      <th>Unnamed: 0</th>\n",
       "      <th>Model</th>\n",
       "      <th>Training Accuracy %</th>\n",
       "      <th>Testing Accuracy %</th>\n",
       "    </tr>\n",
       "  </thead>\n",
       "  <tbody>\n",
       "    <tr>\n",
       "      <th>0</th>\n",
       "      <td>0</td>\n",
       "      <td>Neural Network</td>\n",
       "      <td>0.999077</td>\n",
       "      <td>0.614391</td>\n",
       "    </tr>\n",
       "    <tr>\n",
       "      <th>1</th>\n",
       "      <td>1</td>\n",
       "      <td>Decision Tree</td>\n",
       "      <td>1.000000</td>\n",
       "      <td>0.638376</td>\n",
       "    </tr>\n",
       "    <tr>\n",
       "      <th>2</th>\n",
       "      <td>2</td>\n",
       "      <td>KNN</td>\n",
       "      <td>1.000000</td>\n",
       "      <td>0.453875</td>\n",
       "    </tr>\n",
       "  </tbody>\n",
       "</table>\n",
       "</div>"
      ],
      "text/plain": [
       "   Unnamed: 0           Model  Training Accuracy %  Testing Accuracy %\n",
       "0           0  Neural Network             0.999077            0.614391\n",
       "1           1   Decision Tree             1.000000            0.638376\n",
       "2           2             KNN             1.000000            0.453875"
      ]
     },
     "execution_count": 77,
     "metadata": {},
     "output_type": "execute_result"
    }
   ],
   "source": [
    "test = pd.read_csv('./compare_models_one_hot.csv')\n",
    "test"
   ]
  },
  {
   "cell_type": "code",
   "execution_count": null,
   "id": "c1e8de9b",
   "metadata": {},
   "outputs": [],
   "source": []
  }
 ],
 "metadata": {
  "kernelspec": {
   "display_name": "ida",
   "language": "python",
   "name": "ida"
  },
  "language_info": {
   "codemirror_mode": {
    "name": "ipython",
    "version": 3
   },
   "file_extension": ".py",
   "mimetype": "text/x-python",
   "name": "python",
   "nbconvert_exporter": "python",
   "pygments_lexer": "ipython3",
   "version": "3.9.7"
  }
 },
 "nbformat": 4,
 "nbformat_minor": 5
}
